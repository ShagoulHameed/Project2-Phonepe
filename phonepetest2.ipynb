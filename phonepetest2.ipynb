{
 "cells": [
  {
   "cell_type": "code",
   "execution_count": 118,
   "metadata": {},
   "outputs": [],
   "source": [
    "\n",
    "import pandas as pd \n",
    "import psycopg2\n",
    "import plotly.express as px\n",
    "import plotly.io as pio\n",
    "import requests\n",
    "import json"
   ]
  },
  {
   "cell_type": "code",
   "execution_count": 101,
   "metadata": {},
   "outputs": [],
   "source": [
    "# data framr creation   \n",
    "mydb = psycopg2.connect(host=\"localhost\",\n",
    "                        user=\"postgres\",\n",
    "                        password=\"0040\",\n",
    "                        database=\"phonepe_data\",\n",
    "                        port=\"5432\")\n",
    "cursor = mydb.cursor()\n",
    "\n",
    "#aggregated insurance table\n",
    "cursor.execute(\"select * from aggregated_insurance\")\n",
    "mydb.commit()\n",
    "Table1 = cursor.fetchall()\n",
    "\n",
    "Aggregated_insurance = pd.DataFrame(Table1,columns=(\"States\",\"Years\",\"Quarter\",\"Transaction_type\",\"Transaction_count\",\"Transaction_amount\"))\n",
    "\n",
    "#aggregated Transaction table\n",
    "cursor.execute(\"select * from aggregated_transaction\")\n",
    "mydb.commit()\n",
    "Table2 = cursor.fetchall()\n",
    "\n",
    "Aggregated_Transaction = pd.DataFrame(Table2,columns=(\"States\",\"Years\",\"Quarter\",\"Transaction_type\",\"Transaction_count\",\"Transaction_amount\"))\n",
    "\n",
    "#aggregated USER table\n",
    "cursor.execute(\"select * from aggregated_user\")\n",
    "mydb.commit()\n",
    "Table3 = cursor.fetchall()\n",
    "\n",
    "Aggregated_USER = pd.DataFrame(Table3,columns=(\"States\",\"Years\",\"Quarter\",\"Brands\",\"Transaction_count\",\"Percentage\"))\n",
    "\n",
    "\n",
    "#map_transaction table\n",
    "cursor.execute(\"select * from map_transaction\")\n",
    "mydb.commit()\n",
    "Table4 = cursor.fetchall()\n",
    "\n",
    "Map_Transaction = pd.DataFrame(Table4,columns=(\"States\",\"Years\",\"Quarter\",\"District\",\"Transaction_count\",\"Transaction_amount\"))\n",
    "\n",
    "#Map_insruence table\n",
    "cursor.execute(\"select * from map_insruence\")\n",
    "mydb.commit()\n",
    "Table5 = cursor.fetchall()\n",
    "\n",
    "Map_insruence = pd.DataFrame(Table5,columns=(\"States\",\"Years\",\"Quarter\",\"District\",\"Transaction_count\",\"Transaction_amount\"))\n",
    "\n",
    "\n",
    "#Map_USER table\n",
    "cursor.execute(\"select * from map_user\")\n",
    "mydb.commit()\n",
    "Table6 = cursor.fetchall()\n",
    "\n",
    "Map_user = pd.DataFrame(Table6,columns=(\"States\",\"Years\",\"Quarter\",\"District\",\"RegisteredUsers\",\"AppOpens\"))\n",
    "\n",
    "\n",
    "#Top_transaction table\n",
    "cursor.execute(\"select * from top_transaction\")\n",
    "mydb.commit()\n",
    "Table7 = cursor.fetchall()\n",
    "\n",
    "Top_transaction = pd.DataFrame(Table7,columns=(\"States\",\"Years\",\"Quarter\",\"Pincodes\",\"Transaction_count\",\"Transaction_amount\"))\n",
    "\n",
    "#TOP_insruence table\n",
    "cursor.execute(\"select * from top_insrurence\")\n",
    "mydb.commit()\n",
    "Table8 = cursor.fetchall()\n",
    "\n",
    "TOP_insruence = pd.DataFrame(Table8,columns=(\"States\",\"Years\",\"Quarter\",\"Pincodes\",\"Transaction_count\",\"Transaction_amount\"))\n",
    "\n",
    "\n",
    "#TOP_USER table\n",
    "cursor.execute(\"select * from top_user\")\n",
    "mydb.commit()\n",
    "Table9 = cursor.fetchall()\n",
    "\n",
    "TOP_USER = pd.DataFrame(Table9,columns=(\"States\",\"Years\",\"Quarter\",\"Pincodes\",\"RegisteredUsers\"))\n"
   ]
  },
  {
   "cell_type": "code",
   "execution_count": 109,
   "metadata": {},
   "outputs": [],
   "source": [
    "def top_chart_transactionAmount(table_name):\n",
    "    mydb = psycopg2.connect(host=\"localhost\",\n",
    "                            user=\"postgres\",\n",
    "                            password=\"0040\",\n",
    "                            database=\"phonepe_data\",\n",
    "                            port=\"5432\")\n",
    "    cursor = mydb.cursor()\n",
    "\n",
    "    #plot 1\n",
    "    query1 = f'''SELECT states, SUM(transaction_amount) AS transaction_amount\n",
    "                FROM {table_name}\n",
    "                GROUP BY states \n",
    "                ORDER BY transaction_amount DESC\n",
    "                LIMIT 10;'''\n",
    "\n",
    "    cursor.execute(query1)\n",
    "    table = cursor.fetchall()\n",
    "    mydb.commit()\n",
    "\n",
    "    df_1 = pd.DataFrame(table,columns= (\"states\",\"transaction_amount\"))\n",
    "\n",
    "    col1, col2 = st.columns(2)\n",
    "\n",
    "    with col1:\n",
    "        ammout = px.bar(df_1, x=\"states\",y=\"transaction_amount\",title=\"Top 10 Of Transaction Amount\", hover_name=\"states\",\n",
    "                        color_discrete_sequence=px.colors.sequential.YlGnBu_r,height=650,width=600)\n",
    "        ammout.show()\n",
    "    #st.plotly_chart(ammout)\n",
    "    # plot2 \n",
    "    query2 = f'''SELECT states, SUM(transaction_amount) AS transaction_amount\n",
    "                FROM {table_name}\n",
    "                GROUP BY states \n",
    "                ORDER BY transaction_amount \n",
    "                LIMIT 10;'''\n",
    "\n",
    "    cursor.execute(query2)\n",
    "    table2 = cursor.fetchall()\n",
    "    mydb.commit()\n",
    "\n",
    "    df_2 = pd.DataFrame(table2,columns= (\"states\",\"transaction_amount\"))\n",
    "\n",
    "    with col2:\n",
    "        ammout2 = px.bar(df_2, x=\"states\",y=\"transaction_amount\",title=\"Last 10 of Transaction Amount\", hover_name=\"states\",\n",
    "                        color_discrete_sequence=px.colors.sequential.Rainbow,height=650,width=600)\n",
    "        ammout2.show()\n",
    "    #st.plotly_chart(ammout2)\n",
    "    #plot 3 \n",
    "    query3 = f'''SELECT states, AVG(transaction_amount) AS transaction_amount\n",
    "                FROM {table_name}\n",
    "                GROUP BY states \n",
    "                ORDER BY transaction_amount ;'''\n",
    "\n",
    "    cursor.execute(query3)\n",
    "    table3 = cursor.fetchall()\n",
    "    mydb.commit()\n",
    "\n",
    "    df_3 = pd.DataFrame(table3,columns= (\"states\",\"transaction_amount\"))\n",
    "\n",
    "\n",
    "    ammout3 = px.bar(df_3, y=\"states\",x=\"transaction_amount\",title=\"Average of Transaction Amount\", hover_name=\"states\",orientation=\"h\",\n",
    "                    color_discrete_sequence=px.colors.sequential.Darkmint_r,height=800,width=1000)\n",
    "    ammout3.show()\n",
    "    #st.plotly_chart(ammout3)"
   ]
  },
  {
   "cell_type": "code",
   "execution_count": null,
   "metadata": {},
   "outputs": [],
   "source": [
    "top_chart_transactionAmount(\"map_insruence\")"
   ]
  },
  {
   "cell_type": "code",
   "execution_count": 91,
   "metadata": {},
   "outputs": [],
   "source": [
    "def top_chart_transactionCount(table_name):\n",
    "    mydb = psycopg2.connect(host=\"localhost\",\n",
    "                            user=\"postgres\",\n",
    "                            password=\"0040\",\n",
    "                            database=\"phonepe_data\",\n",
    "                            port=\"5432\")\n",
    "    cursor = mydb.cursor()\n",
    "\n",
    "    #plot 1\n",
    "    query1 = f'''SELECT states, SUM(Transaction_count) AS Transaction_count\n",
    "                FROM {table_name}\n",
    "                GROUP BY states \n",
    "                ORDER BY Transaction_count DESC\n",
    "                LIMIT 10;'''\n",
    "\n",
    "    cursor.execute(query1)\n",
    "    table = cursor.fetchall()\n",
    "    mydb.commit()\n",
    "\n",
    "    df_1 = pd.DataFrame(table,columns= (\"states\",\"Transaction_count\"))\n",
    "\n",
    "\n",
    "    ammout = px.bar(df_1, x=\"states\",y=\"Transaction_count\",title=\"Transaction count\", hover_name=\"states\",\n",
    "                    color_discrete_sequence=px.colors.sequential.Blackbody,height=650,width=600)\n",
    "    ammout.show()\n",
    "    # plot2 \n",
    "    query2 = f'''SELECT states, SUM(Transaction_count) AS Transaction_count\n",
    "                FROM {table_name}\n",
    "                GROUP BY states \n",
    "                ORDER BY Transaction_count \n",
    "                LIMIT 10;'''\n",
    "\n",
    "    cursor.execute(query2)\n",
    "    table2 = cursor.fetchall()\n",
    "    mydb.commit()\n",
    "\n",
    "    df_2 = pd.DataFrame(table2,columns= (\"states\",\"Transaction_count\"))\n",
    "\n",
    "\n",
    "    ammout2 = px.bar(df_2, x=\"states\",y=\"Transaction_count\",title=\"Transaction Count\", hover_name=\"states\",\n",
    "                    color_discrete_sequence=px.colors.sequential.Blackbody,height=650,width=600)\n",
    "    ammout2.show()\n",
    "\n",
    "    #plot 3 \n",
    "    query3 = f'''SELECT states, AVG(Transaction_count) AS Transaction_count\n",
    "                FROM {table_name}\n",
    "                GROUP BY states \n",
    "                ORDER BY Transaction_count ;'''\n",
    "\n",
    "    cursor.execute(query3)\n",
    "    table3 = cursor.fetchall()\n",
    "    mydb.commit()\n",
    "\n",
    "    df_3 = pd.DataFrame(table3,columns= (\"states\",\"Transaction_count\"))\n",
    "\n",
    "\n",
    "    ammout3 = px.bar(df_3, y=\"states\",x=\"Transaction_count\",title=\"Transaction count\", hover_name=\"states\",orientation=\"h\",\n",
    "                    color_discrete_sequence=px.colors.sequential.Blackbody,height=800,width=1000)\n",
    "    ammout3.show()"
   ]
  },
  {
   "cell_type": "code",
   "execution_count": null,
   "metadata": {},
   "outputs": [],
   "source": [
    "top_chart_transactionAmount(\"map_insruence\")"
   ]
  },
  {
   "cell_type": "code",
   "execution_count": null,
   "metadata": {},
   "outputs": [],
   "source": [
    "top_chart_transactionCount(\"aggregated_transaction\")"
   ]
  },
  {
   "cell_type": "code",
   "execution_count": 3,
   "metadata": {},
   "outputs": [],
   "source": [
    "#Transaction_Year Funaction \n",
    "def Transaction_Amout_Count_Year(df, year):\n",
    "    Tran_Am_Cot_Ye = df[df[\"Years\"]==year]\n",
    "    Tran_Am_Cot_Ye.reset_index(drop=True, inplace=True)\n",
    "\n",
    "    Tran_Am_Cot_Ye_Group = Tran_Am_Cot_Ye.groupby(\"States\")[[\"Transaction_count\",\"Transaction_amount\"]].sum()\n",
    "    Tran_Am_Cot_Ye_Group.reset_index(inplace=True)\n",
    "\n",
    "    ammout = px.bar(Tran_Am_Cot_Ye_Group, x=\"States\",y=\"Transaction_amount\",title=f\"{year} - Transaction Amount\",\n",
    "                    color_discrete_sequence=px.colors.sequential.Blackbody,height=650,width=600)\n",
    "    ammout.show()\n",
    "\n",
    "    Cout = px.bar(Tran_Am_Cot_Ye_Group, x=\"States\",y=\"Transaction_count\",title=f\"{year} - Transaction Count\",\n",
    "                    color_discrete_sequence=px.colors.sequential.Bluyl_r,height=650,width=600)\n",
    "    Cout.show()\n",
    "\n",
    "    url  = \"https://gist.githubusercontent.com/jbrobst/56c13bbbf9d97d187fea01ca62ea5112/raw/e388c4cae20aa53cb5090210a42ebb9b765c0a36/india_states.geojson\"\n",
    "\n",
    "    response = requests.get(url)\n",
    "    data1 = json.loads(response.content)\n",
    "\n",
    "    stat_name = []\n",
    "\n",
    "    for feature in data1[\"features\"]:\n",
    "        stat_name.append(feature[\"properties\"][\"ST_NM\"])\n",
    "\n",
    "    stat_name.sort()\n",
    "\n",
    "    indiaMar = px.choropleth(Tran_Am_Cot_Ye_Group,  geojson=data1, locations= \"States\", featureidkey=\"properties.ST_NM\",\n",
    "                             color=\"Transaction_amount\",color_continuous_scale=\"Rainbow\",\n",
    "                             range_color=(Tran_Am_Cot_Ye_Group[\"Transaction_amount\"].min(),Tran_Am_Cot_Ye_Group[\"Transaction_amount\"].max()),\n",
    "                             hover_name=\"States\",title=f\"{year} - Transaction Amount\", fitbounds=\"locations\",\n",
    "                             height=600,width=600)\n",
    "    indiaMar.update_geos(visible=False)\n",
    "    indiaMar.show()\n",
    "\n",
    "    indiaMar2 = px.choropleth(Tran_Am_Cot_Ye_Group,  geojson=data1, locations= \"States\", featureidkey=\"properties.ST_NM\",\n",
    "                            color=\"Transaction_count\",color_continuous_scale=\"Rainbow\",\n",
    "                            range_color=(Tran_Am_Cot_Ye_Group[\"Transaction_count\"].min(),Tran_Am_Cot_Ye_Group[\"Transaction_count\"].max()),\n",
    "                            hover_name=\"States\",title=f\"{year} - Transaction Count\", fitbounds=\"locations\",\n",
    "                            height=600,width=600)\n",
    "    indiaMar2.update_geos(visible=False)\n",
    "    indiaMar2.show()\n",
    "\n",
    "    return Tran_Am_Cot_Ye"
   ]
  },
  {
   "cell_type": "code",
   "execution_count": 4,
   "metadata": {},
   "outputs": [],
   "source": [
    "#Transaction_Quarter Funaction \n",
    "def Transaction_Amout_Count_Year_Quarter(df, Quarter):\n",
    "    Tran_Am_Cot_Ye = df[df[\"Quarter\"]==Quarter]\n",
    "    Tran_Am_Cot_Ye.reset_index(drop=True, inplace=True)\n",
    "\n",
    "    Tran_Am_Cot_Ye_Group = Tran_Am_Cot_Ye.groupby(\"States\")[[\"Transaction_count\",\"Transaction_amount\"]].sum()\n",
    "    Tran_Am_Cot_Ye_Group.reset_index(inplace=True)\n",
    "\n",
    "    ammout = px.bar(Tran_Am_Cot_Ye_Group, x=\"States\",y=\"Transaction_amount\",title=f\"{Tran_Am_Cot_Ye['Years'].unique()} Year {Quarter} Quarter- Transaction Amount\",\n",
    "                    color_discrete_sequence=px.colors.sequential.Blackbody,height=650,width=600)\n",
    "    ammout.show()\n",
    "\n",
    "    Cout = px.bar(Tran_Am_Cot_Ye_Group, x=\"States\",y=\"Transaction_count\",title=f\"{Tran_Am_Cot_Ye['Years'].unique()} Year {Quarter} Quarter - Transaction Count\",\n",
    "                    color_discrete_sequence=px.colors.sequential.Bluyl_r,height=650,width=600)\n",
    "    Cout.show()\n",
    "\n",
    "    url  = \"https://gist.githubusercontent.com/jbrobst/56c13bbbf9d97d187fea01ca62ea5112/raw/e388c4cae20aa53cb5090210a42ebb9b765c0a36/india_states.geojson\"\n",
    "\n",
    "    response = requests.get(url)\n",
    "    data1 = json.loads(response.content)\n",
    "\n",
    "    stat_name = []\n",
    "\n",
    "    for feature in data1[\"features\"]:\n",
    "        stat_name.append(feature[\"properties\"][\"ST_NM\"])\n",
    "\n",
    "    stat_name.sort()\n",
    "\n",
    "    indiaMar = px.choropleth(Tran_Am_Cot_Ye_Group,  geojson=data1, locations= \"States\", featureidkey=\"properties.ST_NM\",\n",
    "                             color=\"Transaction_amount\",color_continuous_scale=\"Rainbow\",\n",
    "                             range_color=(Tran_Am_Cot_Ye_Group[\"Transaction_amount\"].min(),Tran_Am_Cot_Ye_Group[\"Transaction_amount\"].max()),\n",
    "                             hover_name=\"States\",title=f\"{Tran_Am_Cot_Ye['Years'].unique()} Year {Quarter} Quarter- Transaction Amount\", fitbounds=\"locations\",\n",
    "                             height=600,width=600)\n",
    "    indiaMar.update_geos(visible=False)\n",
    "    indiaMar.show()\n",
    "\n",
    "    indiaMar2 = px.choropleth(Tran_Am_Cot_Ye_Group,  geojson=data1, locations= \"States\", featureidkey=\"properties.ST_NM\",\n",
    "                            color=\"Transaction_count\",color_continuous_scale=\"Rainbow\",\n",
    "                            range_color=(Tran_Am_Cot_Ye_Group[\"Transaction_count\"].min(),Tran_Am_Cot_Ye_Group[\"Transaction_count\"].max()),\n",
    "                            hover_name=\"States\",title=f\"{Tran_Am_Cot_Ye['Years'].unique()} Year {Quarter} Quarter- Transaction Count\", fitbounds=\"locations\",\n",
    "                            height=600,width=600)\n",
    "    indiaMar2.update_geos(visible=False)\n",
    "    indiaMar2.show()\n",
    "\n",
    "    return Tran_Am_Cot_Ye\n",
    "\n",
    "\n",
    "    "
   ]
  },
  {
   "cell_type": "code",
   "execution_count": 5,
   "metadata": {},
   "outputs": [],
   "source": [
    "#Transaction_type \n",
    "def aggre_transa_type(df,state):\n",
    "    Tran_Am_Cot_Ye = df[df[\"States\"]==state]\n",
    "    Tran_Am_Cot_Ye.reset_index(drop=True, inplace=True)\n",
    "\n",
    "    Tran_Am_Cot_Ye_Group = Tran_Am_Cot_Ye.groupby(\"Transaction_type\")[[\"Transaction_count\",\"Transaction_amount\"]].sum()\n",
    "    Tran_Am_Cot_Ye_Group.reset_index(inplace=True)\n",
    "    pie_1 = px.pie(data_frame= Tran_Am_Cot_Ye_Group, names=\"Transaction_type\", values=\"Transaction_amount\", width=600,title=f\"{state.upper()} Transaction Amount\", hole=0.3)\n",
    "    pie_1.show()\n",
    "\n",
    "\n",
    "    pie_2 = px.pie(data_frame= Tran_Am_Cot_Ye_Group, names=\"Transaction_type\", values=\"Transaction_count\", width=600,title=f\"{state.upper()} Transaction Count\", hole=0.3)\n",
    "    pie_2.show()"
   ]
  },
  {
   "cell_type": "code",
   "execution_count": 6,
   "metadata": {},
   "outputs": [],
   "source": [
    "#Aggregated USER Analysis _1 \n",
    "def Agger_User_plot_1(df, year):\n",
    "    agger_user_year = df[df[\"Years\"]==year]\n",
    "    agger_user_year.reset_index(drop=True, inplace=True)\n",
    "\n",
    "    agger_user_year_Group = pd.DataFrame(agger_user_year.groupby(\"Brands\")[[\"Transaction_count\",\"Percentage\"]].sum())\n",
    "    agger_user_year_Group.reset_index(inplace=True)\n",
    "\n",
    "    user_bar_1 =  px.bar(agger_user_year_Group, x= \"Brands\", y= \"Transaction_count\", title=f\"{year} Brands and Transaction Count\",\n",
    "                        width=1000,color_discrete_sequence=px.colors.sequential.haline,hover_name=\"Brands\")\n",
    "    user_bar_1.show()\n",
    "    return agger_user_year"
   ]
  },
  {
   "cell_type": "code",
   "execution_count": 7,
   "metadata": {},
   "outputs": [],
   "source": [
    "#Aggregated USER Analysis _2 \n",
    "def Agger_User_plot_2(df,Quarter):\n",
    "    agger_user_Quarter  = df[df[\"Quarter\"]==Quarter]\n",
    "    agger_user_Quarter.reset_index(drop=True, inplace=True)\n",
    "\n",
    "    agger_user_Quarter_group = pd.DataFrame(agger_user_Quarter.groupby(\"Brands\")[\"Transaction_count\"].sum())\n",
    "    agger_user_Quarter_group.reset_index(inplace=True)\n",
    "\n",
    "    user_bar_2 =  px.bar(agger_user_Quarter_group, x= \"Brands\", y= \"Transaction_count\", title=f\"{Quarter} (Quarter) Brands and Transaction Count\",\n",
    "                        width=1000,color_discrete_sequence=px.colors.sequential.haline,hover_name=\"Brands\")\n",
    "    user_bar_2.show()\n",
    "    return agger_user_Quarter\n"
   ]
  },
  {
   "cell_type": "code",
   "execution_count": 8,
   "metadata": {},
   "outputs": [],
   "source": [
    "#Agger_User_plot_3 \n",
    "def Agger_User_plot_3(df,state):\n",
    "    Agger_User_yer_quo_stat = df[df[\"States\"]==state]\n",
    "    Agger_User_yer_quo_stat.reset_index(drop=True,inplace=True)\n",
    "\n",
    "    line_1  = px.line(Agger_User_yer_quo_stat, x = \"Brands\", y= \"Transaction_count\", hover_data=\"Percentage\",title=f\"{state} Brands and Transaction Count and Percentage\",\n",
    "                    width=700,markers=True)\n",
    "    line_1.show()"
   ]
  },
  {
   "cell_type": "code",
   "execution_count": 9,
   "metadata": {},
   "outputs": [],
   "source": [
    "#Map insurcence District\n",
    "def Map_insru_Distric_type(df,state):\n",
    "    Tran_Am_Cot_Ye = df[df[\"States\"]==state]\n",
    "    Tran_Am_Cot_Ye.reset_index(drop=True, inplace=True)\n",
    "\n",
    "    Tran_Am_Cot_Ye_Group = Tran_Am_Cot_Ye.groupby(\"District\")[[\"Transaction_count\",\"Transaction_amount\"]].sum()\n",
    "    Tran_Am_Cot_Ye_Group.reset_index(inplace=True)\n",
    "    \n",
    "    pie_bar_1 = px.bar(Tran_Am_Cot_Ye_Group, x=\"Transaction_amount\",y=\"District\",orientation=\"h\",\n",
    "                       title=f\"{state} District and Transaction Amount\",color_discrete_sequence=px.colors.sequential.Peach_r)   \n",
    "    pie_bar_1.show()\n",
    "\n",
    "\n",
    "    pie_bar_2 = px.bar(Tran_Am_Cot_Ye_Group, x=\"Transaction_count\",y=\"District\",orientation=\"h\",\n",
    "                       title=f\"{state} District and Transaction Count\",color_discrete_sequence=px.colors.sequential.Plasma_r)\n",
    "    pie_bar_2.show()"
   ]
  },
  {
   "cell_type": "code",
   "execution_count": 10,
   "metadata": {},
   "outputs": [],
   "source": [
    "#map user plot _1\n",
    "def map_user_plot_1 (df,year):\n",
    "    map_user_year = df[df[\"Years\"]==year]\n",
    "    map_user_year.reset_index(drop=True, inplace=True)\n",
    "\n",
    "    Map_user_year_Group = map_user_year.groupby(\"States\")[[\"RegisteredUsers\",\"AppOpens\"]].sum()\n",
    "    Map_user_year_Group.reset_index(inplace=True)\n",
    "    \n",
    "\n",
    "    line_1_Map  = px.line(Map_user_year_Group, x = \"States\", y= [\"RegisteredUsers\",\"AppOpens\"], title=f\"{year} Registered Users and AppOpens\",\n",
    "                    width=900,height=900,markers=True)\n",
    "    line_1_Map.show()\n",
    "\n",
    "    return map_user_year\n"
   ]
  },
  {
   "cell_type": "code",
   "execution_count": 198,
   "metadata": {},
   "outputs": [],
   "source": [
    "#map user plot _2\n",
    "def map_user_plot_2 (df,Quarter):\n",
    "    map_user_year_Quarter = df[df[\"Quarter\"]==Quarter]\n",
    "    map_user_year_Quarter.reset_index(drop=True, inplace=True)\n",
    "\n",
    "    Map_user_year_Group_Quarter = map_user_year_Quarter.groupby(\"States\")[[\"RegisteredUsers\",\"AppOpens\"]].sum()\n",
    "    Map_user_year_Group_Quarter.reset_index(inplace=True)\n",
    "    \n",
    "\n",
    "    line_1_Map  = px.line(Map_user_year_Group_Quarter, x = \"States\", y= [\"RegisteredUsers\",\"AppOpens\"], title=f\"{df['Years'].max()} Year {Quarter} (Quarter) Registered Users and AppOpens\",\n",
    "                    width=1000,height=900,markers=True,color_discrete_sequence=px.colors.sequential.Rainbow )\n",
    "    line_1_Map.show()\n",
    "\n",
    "    return map_user_year_Quarter\n",
    "\n"
   ]
  },
  {
   "cell_type": "code",
   "execution_count": 11,
   "metadata": {},
   "outputs": [],
   "source": [
    "#map_user_plot_3\n",
    "def map_user_plot_3(df,States):\n",
    "    map_user_Year_Quarter  = df[df[\"States\"]==States]\n",
    "    map_user_Year_Quarter.reset_index(drop=True, inplace=True)\n",
    "\n",
    "    map_user_bar1 = px.bar(map_user_Year_Quarter, x = \"RegisteredUsers\", y = \"District\",orientation=\"h\",\n",
    "                        title= \"Registered Users\",height=800,color_discrete_sequence=px.colors.sequential.Aggrnyl)\n",
    "    map_user_bar1.show()\n",
    "\n",
    "    map_user_bar2 = px.bar(map_user_Year_Quarter, x = \"AppOpens\", y = \"District\",orientation=\"h\",\n",
    "                        title= \"AppOpens\",height=800,color_discrete_sequence=px.colors.sequential.RdBu_r)\n",
    "    map_user_bar2.show()"
   ]
  },
  {
   "cell_type": "code",
   "execution_count": 32,
   "metadata": {},
   "outputs": [],
   "source": [
    "#top_insruence_plot_1\n",
    "def top_insruence_plot_1(df,state):\n",
    "    top_user_insruenc_year_Quarter = df[df[\"States\"]==state]\n",
    "    top_user_insruenc_year_Quarter.reset_index(drop=True, inplace=True)\n",
    "\n",
    "    top_user_bar1 = px.bar(top_user_insruenc_year_Quarter, x = \"Quarter\", y = \"Transaction_amount\", hover_data= \"Pincodes\",\n",
    "                        title= \"Transaction Amount\",height=800,color_discrete_sequence=px.colors.sequential.Blackbody_r)\n",
    "    top_user_bar1.show()\n",
    "\n",
    "    top_user_bar2 = px.bar(top_user_insruenc_year_Quarter, x = \"Quarter\", y = \"Transaction_count\", hover_data= \"Pincodes\",\n",
    "                    title= \"Transaction Count\",height=800,color_discrete_sequence=px.colors.sequential.Pinkyl_r)\n",
    "    top_user_bar2.show()\n"
   ]
  },
  {
   "cell_type": "code",
   "execution_count": null,
   "metadata": {},
   "outputs": [],
   "source": [
    "#top_user_plot_1\n",
    "def top_user_plot_1(df, year):\n",
    "    top_user_year = df[df[\"Years\"]==year]\n",
    "    top_user_year.reset_index(drop=True, inplace=True)\n",
    "\n",
    "    top_user_year_Group = pd.DataFrame(top_user_year.groupby([\"States\",\"Quarter\"])[[\"RegisteredUsers\"]].sum())\n",
    "    top_user_year_Group.reset_index(inplace=True)\n",
    "\n",
    "\n",
    "    top_plot1 = px.bar(top_user_year_Group, x=\"States\", y=\"RegisteredUsers\", color=\"Quarter\", width=1000, height=800, \n",
    "                    color_discrete_sequence=px.colors.sequential.Bluered_r,hover_name=\"States\",title=f\"{year} Registered Users\")\n",
    "    top_plot1.show()\n",
    "    return top_user_year\n",
    "  "
   ]
  },
  {
   "cell_type": "code",
   "execution_count": 77,
   "metadata": {},
   "outputs": [],
   "source": [
    "#top_user_plot_2\n",
    "def top_user_plot_2(df,state):\n",
    "    top_user_state_year = df[df[\"States\"]==state]\n",
    "    top_user_state_year.reset_index(drop=True, inplace=True)\n",
    "\n",
    "    top_plot_2  = px.bar(top_user_state_year, x= \"Quarter\", y  = \"RegisteredUsers\", title=f\"{state} Registered Users and Pincodes with Quarter\",\n",
    "                        width=1000,height=700,color=\"RegisteredUsers\", hover_data=\"Pincodes\",\n",
    "                        color_continuous_scale= px.colors.sequential.RdBu)\n",
    "    top_plot_2.show()"
   ]
  },
  {
   "cell_type": "code",
   "execution_count": null,
   "metadata": {},
   "outputs": [],
   "source": [
    "def top_chart_register_user(table_name, state):\n",
    "    mydb = psycopg2.connect(host=\"localhost\",\n",
    "                            user=\"postgres\",\n",
    "                            password=\"0040\",\n",
    "                            database=\"phonepe_data\",\n",
    "                            port=\"5432\")\n",
    "    cursor = mydb.cursor()\n",
    "\n",
    "    #plot 1\n",
    "    query1 = f'''SELECT districts,sum(registeredUsers) as registeredUsers\n",
    "                    from {table_name}\n",
    "                    where states = '{state}'\n",
    "                    group by districts\n",
    "                    order by registeredUsers DESC\n",
    "                    limit 10;'''\n",
    "\n",
    "    cursor.execute(query1)\n",
    "    table = cursor.fetchall()\n",
    "    mydb.commit()\n",
    "\n",
    "    df_1 = pd.DataFrame(table,columns= (\"districts\",\"registeredUsers\"))\n",
    "\n",
    "    col1, col2 = st.columns(2)\n",
    "\n",
    "    with col1:\n",
    "        ammout = px.bar(df_1, x=\"districts\",y=\"registeredUsers\",title=\"Top 10 of Registered Users\", hover_name=\"districts\",\n",
    "                        color_discrete_sequence=px.colors.sequential.Aggrnyl,height=650,width=600)\n",
    "        ammout.show()\n",
    "    \n",
    "    # plot2 \n",
    "    query2 = f'''SELECT districts,sum(registeredUsers) as registeredUsers\n",
    "                    from {table_name}\n",
    "                    where states = '{state}'\n",
    "                    group by districts\n",
    "                    order by registeredUsers \n",
    "                    limit 10;'''\n",
    "\n",
    "    cursor.execute(query2)\n",
    "    table2 = cursor.fetchall()\n",
    "    mydb.commit()\n",
    "\n",
    "    df_2 = pd.DataFrame(table2,columns= (\"districts\",\"registeredUsers\"))\n",
    "\n",
    "    with col2:\n",
    "        ammout2 = px.bar(df_2, x=\"districts\",y=\"registeredUsers\",title=\"Last 10 of Registered Users\", hover_name=\"districts\",\n",
    "                        color_discrete_sequence=px.colors.sequential.Rainbow,height=650,width=600)\n",
    "        ammout2.show()\n",
    "   \n",
    "    query3 = f'''SELECT districts,AVG(registeredUsers) as registeredUsers\n",
    "                from {table_name}\n",
    "                where states = '{state}'\n",
    "                group by districts\n",
    "                order by registeredUsers;'''\n",
    "\n",
    "    cursor.execute(query3)\n",
    "    table3 = cursor.fetchall()\n",
    "    mydb.commit()\n",
    "\n",
    "    df_3 = pd.DataFrame(table3,columns= (\"districts\",\"registeredUsers\"))\n",
    "\n",
    "\n",
    "    ammout3 = px.bar(df_3, y=\"districts\",x=\"registeredUsers\",title=\"Average of Registered Users\", hover_name=\"districts\",orientation=\"h\",\n",
    "                    color_discrete_sequence=px.colors.sequential.Darkmint_r,height=800,width=1000)\n",
    "    ammout3.show()\n",
    "   "
   ]
  },
  {
   "cell_type": "code",
   "execution_count": 125,
   "metadata": {},
   "outputs": [],
   "source": [
    "def top_chart_appopen(table_name, state):\n",
    "    mydb = psycopg2.connect(host=\"localhost\",\n",
    "                            user=\"postgres\",\n",
    "                            password=\"0040\",\n",
    "                            database=\"phonepe_data\",\n",
    "                            port=\"5432\")\n",
    "    cursor = mydb.cursor()\n",
    "\n",
    "    #plot 1\n",
    "    query1 = f'''SELECT districts,sum(AppOpens) as AppOpens\n",
    "                    from {table_name}\n",
    "                    where states = '{state}'\n",
    "                    group by districts\n",
    "                    order by AppOpens DESC\n",
    "                    limit 10;'''\n",
    "\n",
    "    cursor.execute(query1)\n",
    "    table = cursor.fetchall()\n",
    "    mydb.commit()\n",
    "\n",
    "    df_1 = pd.DataFrame(table,columns= (\"districts\",\"AppOpens\"))\n",
    "\n",
    "    col1, col2 = st.columns(2)\n",
    "\n",
    "    with col1:\n",
    "        ammout = px.bar(df_1, x=\"districts\",y=\"AppOpens\",title=\"Top 10 of AppOpens\", hover_name=\"districts\",\n",
    "                        color_discrete_sequence=px.colors.sequential.Aggrnyl,height=650,width=600)\n",
    "        ammout.show()\n",
    "    \n",
    "    # plot2 \n",
    "    query2 = f'''SELECT districts,sum(AppOpens) as AppOpens\n",
    "                    from {table_name}\n",
    "                    where states = '{state}'\n",
    "                    group by districts\n",
    "                    order by AppOpens \n",
    "                    limit 10;'''\n",
    "\n",
    "    cursor.execute(query2)\n",
    "    table2 = cursor.fetchall()\n",
    "    mydb.commit()\n",
    "\n",
    "    df_2 = pd.DataFrame(table2,columns= (\"districts\",\"AppOpens\"))\n",
    "\n",
    "    with col2:\n",
    "        ammout2 = px.bar(df_2, x=\"districts\",y=\"AppOpens\",title=\"Last 10 of AppOpens\", hover_name=\"districts\",\n",
    "                        color_discrete_sequence=px.colors.sequential.Rainbow,height=650,width=600)\n",
    "        ammout2.show()\n",
    "   \n",
    "    query3 = f'''SELECT districts,AVG(AppOpens) as ApapOpens\n",
    "                from {table_name}\n",
    "                where states = '{state}'\n",
    "                group by districts\n",
    "                order by AppOpens;'''\n",
    "\n",
    "    cursor.execute(query3)\n",
    "    table3 = cursor.fetchall()\n",
    "    mydb.commit()\n",
    "\n",
    "    df_3 = pd.DataFrame(table3,columns= (\"districts\",\"AppOpens\"))\n",
    "\n",
    "\n",
    "    ammout3 = px.bar(df_3, y=\"districts\",x=\"AppOpens\",title=\"Average of AppOpens\", hover_name=\"districts\",orientation=\"h\",\n",
    "                    color_discrete_sequence=px.colors.sequential.Darkmint_r,height=800,width=1000)\n",
    "    ammout3.show()\n",
    "   "
   ]
  },
  {
   "cell_type": "code",
   "execution_count": null,
   "metadata": {},
   "outputs": [],
   "source": [
    "def top_chart_Top_user(table_name):\n",
    "    mydb = psycopg2.connect(host=\"localhost\",\n",
    "                            user=\"postgres\",\n",
    "                            password=\"0040\",\n",
    "                            database=\"phonepe_data\",\n",
    "                            port=\"5432\")\n",
    "    cursor = mydb.cursor()\n",
    "\n",
    "    #plot 1\n",
    "    query1 = f'''select states, sum(registeredUsers) as registeredUsers\n",
    "                from {table_name}\n",
    "                group by states\n",
    "                order by registeredUsers\n",
    "                limit 10;'''\n",
    "\n",
    "    cursor.execute(query1)\n",
    "    table = cursor.fetchall()\n",
    "    mydb.commit()\n",
    "\n",
    "    df_1 = pd.DataFrame(table,columns= (\"states\",\"registeredUsers\"))\n",
    "\n",
    "    col1, col2 = st.columns(2)\n",
    "\n",
    "    with col1:\n",
    "        ammout = px.bar(df_1, x=\"districts\",y=\"registeredUsers\",title=\"Top 10 of Registered Users\", hover_name=\"districts\",\n",
    "                        color_discrete_sequence=px.colors.sequential.Aggrnyl,height=650,width=600)\n",
    "        ammout.show()\n",
    "    \n",
    "    # plot2 \n",
    "    query2 = f'''select states, sum(registeredUsers) as registeredUsers\n",
    "            from {table_name}\n",
    "            group by states\n",
    "            order by registeredUsers Desc\n",
    "            limit 10;'''\n",
    "\n",
    "    cursor.execute(query2)\n",
    "    table2 = cursor.fetchall()\n",
    "    mydb.commit()\n",
    "\n",
    "    df_2 = pd.DataFrame(table2,columns= (\"states\",\"registeredUsers\"))\n",
    "\n",
    "    with col2:\n",
    "        ammout2 = px.bar(df_2, x=\"states\",y=\"registeredUsers\",title=\"Last 10 of Registered Users\", hover_name=\"states\",\n",
    "                        color_discrete_sequence=px.colors.sequential.Rainbow,height=650,width=600)\n",
    "        ammout2.show()\n",
    "   \n",
    "    query3 = f'''select states, AVG(registeredUsers) as registeredUsers\n",
    "                from {table_name}\n",
    "                group by states\n",
    "                order by registeredUsers;'''\n",
    "\n",
    "    cursor.execute(query3)\n",
    "    table3 = cursor.fetchall()\n",
    "    mydb.commit()\n",
    "\n",
    "    df_3 = pd.DataFrame(table3,columns= (\"states\",\"registeredUsers\"))\n",
    "\n",
    "\n",
    "    ammout3 = px.bar(df_3, y=\"states\",x=\"registeredUsers\",title=\"Average of Registered Users\", hover_name=\"states\",orientation=\"h\",\n",
    "                    color_discrete_sequence=px.colors.sequential.Darkmint_r,height=800,width=1000)\n",
    "    ammout3.show()\n",
    "   "
   ]
  },
  {
   "cell_type": "code",
   "execution_count": 126,
   "metadata": {},
   "outputs": [
    {
     "ename": "NameError",
     "evalue": "name 'st' is not defined",
     "output_type": "error",
     "traceback": [
      "\u001b[1;31m---------------------------------------------------------------------------\u001b[0m",
      "\u001b[1;31mNameError\u001b[0m                                 Traceback (most recent call last)",
      "Cell \u001b[1;32mIn[126], line 1\u001b[0m\n\u001b[1;32m----> 1\u001b[0m \u001b[43mtop_chart_appopen\u001b[49m\u001b[43m(\u001b[49m\u001b[38;5;124;43m\"\u001b[39;49m\u001b[38;5;124;43mMap_user\u001b[39;49m\u001b[38;5;124;43m\"\u001b[39;49m\u001b[43m,\u001b[49m\u001b[43m \u001b[49m\u001b[38;5;124;43m\"\u001b[39;49m\u001b[38;5;124;43mTamil Nadu\u001b[39;49m\u001b[38;5;124;43m\"\u001b[39;49m\u001b[43m)\u001b[49m\n",
      "Cell \u001b[1;32mIn[125], line 23\u001b[0m, in \u001b[0;36mtop_chart_appopen\u001b[1;34m(table_name, state)\u001b[0m\n\u001b[0;32m     19\u001b[0m mydb\u001b[38;5;241m.\u001b[39mcommit()\n\u001b[0;32m     21\u001b[0m df_1 \u001b[38;5;241m=\u001b[39m pd\u001b[38;5;241m.\u001b[39mDataFrame(table,columns\u001b[38;5;241m=\u001b[39m (\u001b[38;5;124m\"\u001b[39m\u001b[38;5;124mdistricts\u001b[39m\u001b[38;5;124m\"\u001b[39m,\u001b[38;5;124m\"\u001b[39m\u001b[38;5;124mAppOpens\u001b[39m\u001b[38;5;124m\"\u001b[39m))\n\u001b[1;32m---> 23\u001b[0m col1, col2 \u001b[38;5;241m=\u001b[39m \u001b[43mst\u001b[49m\u001b[38;5;241m.\u001b[39mcolumns(\u001b[38;5;241m2\u001b[39m)\n\u001b[0;32m     25\u001b[0m \u001b[38;5;28;01mwith\u001b[39;00m col1:\n\u001b[0;32m     26\u001b[0m     ammout \u001b[38;5;241m=\u001b[39m px\u001b[38;5;241m.\u001b[39mbar(df_1, x\u001b[38;5;241m=\u001b[39m\u001b[38;5;124m\"\u001b[39m\u001b[38;5;124mdistricts\u001b[39m\u001b[38;5;124m\"\u001b[39m,y\u001b[38;5;241m=\u001b[39m\u001b[38;5;124m\"\u001b[39m\u001b[38;5;124mAppOpens\u001b[39m\u001b[38;5;124m\"\u001b[39m,title\u001b[38;5;241m=\u001b[39m\u001b[38;5;124m\"\u001b[39m\u001b[38;5;124mTop 10 of AppOpens\u001b[39m\u001b[38;5;124m\"\u001b[39m, hover_name\u001b[38;5;241m=\u001b[39m\u001b[38;5;124m\"\u001b[39m\u001b[38;5;124mdistricts\u001b[39m\u001b[38;5;124m\"\u001b[39m,\n\u001b[0;32m     27\u001b[0m                     color_discrete_sequence\u001b[38;5;241m=\u001b[39mpx\u001b[38;5;241m.\u001b[39mcolors\u001b[38;5;241m.\u001b[39msequential\u001b[38;5;241m.\u001b[39mAggrnyl,height\u001b[38;5;241m=\u001b[39m\u001b[38;5;241m650\u001b[39m,width\u001b[38;5;241m=\u001b[39m\u001b[38;5;241m600\u001b[39m)\n",
      "\u001b[1;31mNameError\u001b[0m: name 'st' is not defined"
     ]
    }
   ],
   "source": [
    "top_chart_appopen(\"Map_user\", \"Tamil Nadu\")"
   ]
  },
  {
   "cell_type": "markdown",
   "metadata": {},
   "source": [
    "## Aggregated_insurance\n"
   ]
  },
  {
   "cell_type": "code",
   "execution_count": null,
   "metadata": {},
   "outputs": [],
   "source": [
    "Tran_Am_Cot_Ye_NEW = Transaction_Amout_Count_Year(Aggregated_insurance,2021)"
   ]
  },
  {
   "cell_type": "code",
   "execution_count": null,
   "metadata": {},
   "outputs": [],
   "source": [
    "Transaction_Amout_Count_Year_Quarter(Tran_Am_Cot_Ye_NEW,3)\n"
   ]
  },
  {
   "cell_type": "markdown",
   "metadata": {},
   "source": [
    "### Aggregated_Transaction"
   ]
  },
  {
   "cell_type": "code",
   "execution_count": null,
   "metadata": {},
   "outputs": [],
   "source": [
    "Agg_Tran_year = Transaction_Amout_Count_Year(Aggregated_Transaction,2021)"
   ]
  },
  {
   "cell_type": "code",
   "execution_count": null,
   "metadata": {},
   "outputs": [],
   "source": [
    "aggre_transa_type(Agg_Tran_year,\"Haryana\")"
   ]
  },
  {
   "cell_type": "code",
   "execution_count": null,
   "metadata": {},
   "outputs": [],
   "source": [
    "Agg_Tran_year_Q  = Transaction_Amout_Count_Year_Quarter(Agg_Tran_year,3)"
   ]
  },
  {
   "cell_type": "code",
   "execution_count": null,
   "metadata": {},
   "outputs": [],
   "source": [
    "aggre_transa_type(Agg_Tran_year_Q,\"Haryana\")"
   ]
  },
  {
   "cell_type": "markdown",
   "metadata": {},
   "source": [
    "### Aggregated_USER"
   ]
  },
  {
   "cell_type": "code",
   "execution_count": null,
   "metadata": {},
   "outputs": [],
   "source": [
    "Aggregated_USER_YEAR =  Agger_User_plot_1(Aggregated_USER, 2021)"
   ]
  },
  {
   "cell_type": "code",
   "execution_count": null,
   "metadata": {},
   "outputs": [],
   "source": [
    "Agg_Tran_year_Quarter  = Agger_User_plot_2(Aggregated_USER_YEAR,3)"
   ]
  },
  {
   "cell_type": "code",
   "execution_count": null,
   "metadata": {},
   "outputs": [],
   "source": [
    "Agger_User_plot_3(Agg_Tran_year_Quarter,\"Andaman & Nicobar\")"
   ]
  },
  {
   "cell_type": "markdown",
   "metadata": {},
   "source": [
    "## Map Insrurence"
   ]
  },
  {
   "cell_type": "code",
   "execution_count": null,
   "metadata": {},
   "outputs": [],
   "source": [
    "MAP_Insrurence_Year = Transaction_Amout_Count_Year(Map_insruence,2022)"
   ]
  },
  {
   "cell_type": "code",
   "execution_count": null,
   "metadata": {},
   "outputs": [],
   "source": [
    "Map_insru_Distric_type(MAP_Insrurence_Year,\"West Bengal\")"
   ]
  },
  {
   "cell_type": "code",
   "execution_count": null,
   "metadata": {},
   "outputs": [],
   "source": [
    "MAP_Insrurence_Year_Quarter  = Transaction_Amout_Count_Year_Quarter(MAP_Insrurence_Year,3)"
   ]
  },
  {
   "cell_type": "code",
   "execution_count": null,
   "metadata": {},
   "outputs": [],
   "source": [
    "Map_insru_Distric_type(MAP_Insrurence_Year_Quarter,\"Haryana\")"
   ]
  },
  {
   "cell_type": "markdown",
   "metadata": {},
   "source": [
    "## Map_Transaction"
   ]
  },
  {
   "cell_type": "code",
   "execution_count": null,
   "metadata": {},
   "outputs": [],
   "source": [
    "MAP_Transaction_Year = Transaction_Amout_Count_Year(Map_Transaction,2023)"
   ]
  },
  {
   "cell_type": "code",
   "execution_count": null,
   "metadata": {},
   "outputs": [],
   "source": [
    "Map_insru_Distric_type(MAP_Transaction_Year,\"West Bengal\")"
   ]
  },
  {
   "cell_type": "code",
   "execution_count": null,
   "metadata": {},
   "outputs": [],
   "source": [
    "MAP_Transaction_Year_Quarter  = Transaction_Amout_Count_Year_Quarter(MAP_Transaction_Year,3)"
   ]
  },
  {
   "cell_type": "code",
   "execution_count": null,
   "metadata": {},
   "outputs": [],
   "source": [
    "Map_insru_Distric_type(MAP_Transaction_Year_Quarter,\"Haryana\")"
   ]
  },
  {
   "cell_type": "markdown",
   "metadata": {},
   "source": [
    "## Map_user"
   ]
  },
  {
   "cell_type": "code",
   "execution_count": null,
   "metadata": {},
   "outputs": [],
   "source": [
    "map_user_year = map_user_plot_1 (Map_user,2023)"
   ]
  },
  {
   "cell_type": "code",
   "execution_count": null,
   "metadata": {},
   "outputs": [],
   "source": [
    "map_user_year_Quarter = map_user_plot_2(map_user_year,2)"
   ]
  },
  {
   "cell_type": "code",
   "execution_count": null,
   "metadata": {},
   "outputs": [],
   "source": [
    "map_user_plot_3(map_user_year_Quarter,\"West Bengal\")"
   ]
  },
  {
   "cell_type": "markdown",
   "metadata": {},
   "source": [
    "## TOP_insruence"
   ]
  },
  {
   "cell_type": "code",
   "execution_count": null,
   "metadata": {},
   "outputs": [],
   "source": [
    "Top_insruence_Year = Transaction_Amout_Count_Year(TOP_insruence,2023)"
   ]
  },
  {
   "cell_type": "code",
   "execution_count": null,
   "metadata": {},
   "outputs": [],
   "source": [
    "top_insruence_plot_1(Top_insruence_Year,\"West Bengal\")"
   ]
  },
  {
   "cell_type": "code",
   "execution_count": null,
   "metadata": {},
   "outputs": [],
   "source": [
    "Top_insruence_Year_Quarter  = Transaction_Amout_Count_Year_Quarter(Top_insruence_Year,3)"
   ]
  },
  {
   "cell_type": "markdown",
   "metadata": {},
   "source": [
    "## Top_transaction"
   ]
  },
  {
   "cell_type": "code",
   "execution_count": null,
   "metadata": {},
   "outputs": [],
   "source": [
    "Top_transaction_Year = Transaction_Amout_Count_Year(Top_transaction,2023)"
   ]
  },
  {
   "cell_type": "code",
   "execution_count": null,
   "metadata": {},
   "outputs": [],
   "source": [
    "top_insruence_plot_1(Top_transaction_Year,\"West Bengal\")"
   ]
  },
  {
   "cell_type": "code",
   "execution_count": null,
   "metadata": {},
   "outputs": [],
   "source": [
    "Top_transaction_Year_Quarter  = Transaction_Amout_Count_Year_Quarter(Top_transaction_Year,3)"
   ]
  },
  {
   "cell_type": "markdown",
   "metadata": {},
   "source": [
    "## TOP_USER"
   ]
  },
  {
   "cell_type": "code",
   "execution_count": null,
   "metadata": {},
   "outputs": [],
   "source": [
    "top_user_Y  = top_user_plot_1(TOP_USER, 2021)"
   ]
  },
  {
   "cell_type": "code",
   "execution_count": null,
   "metadata": {},
   "outputs": [],
   "source": [
    "top_user_plot_2(top_user_Y, \"Tamil Nadu\")"
   ]
  },
  {
   "cell_type": "code",
   "execution_count": 119,
   "metadata": {},
   "outputs": [],
   "source": []
  },
  {
   "cell_type": "code",
   "execution_count": null,
   "metadata": {},
   "outputs": [],
   "source": []
  }
 ],
 "metadata": {
  "kernelspec": {
   "display_name": ".venv",
   "language": "python",
   "name": "python3"
  },
  "language_info": {
   "codemirror_mode": {
    "name": "ipython",
    "version": 3
   },
   "file_extension": ".py",
   "mimetype": "text/x-python",
   "name": "python",
   "nbconvert_exporter": "python",
   "pygments_lexer": "ipython3",
   "version": "3.11.1"
  }
 },
 "nbformat": 4,
 "nbformat_minor": 2
}
